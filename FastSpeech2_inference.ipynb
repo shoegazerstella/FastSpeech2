{
  "nbformat": 4,
  "nbformat_minor": 0,
  "metadata": {
    "colab": {
      "name": "FastSpeech2.ipynb",
      "provenance": [],
      "private_outputs": true,
      "collapsed_sections": []
    },
    "kernelspec": {
      "name": "python3",
      "display_name": "Python 3"
    },
    "accelerator": "GPU"
  },
  "cells": [
    {
      "cell_type": "markdown",
      "metadata": {
        "id": "FF5UlwxRqZEn",
        "colab_type": "text"
      },
      "source": [
        "# **FastSpeech2**"
      ]
    },
    {
      "cell_type": "code",
      "metadata": {
        "id": "UyvhX2EKfOVu",
        "colab_type": "code",
        "colab": {}
      },
      "source": [
        "# clone and install FastSpeech2\n",
        "!git clone https://github.com/ming024/FastSpeech2.git\n",
        "!pip3 install -r FastSpeech2/requirements.txt"
      ],
      "execution_count": null,
      "outputs": []
    },
    {
      "cell_type": "code",
      "metadata": {
        "id": "SlseRPyMftL_",
        "colab_type": "code",
        "colab": {}
      },
      "source": [
        "# install pytorch\n",
        "!pip3 install numpy\n",
        "!pip3 install --pre torch==1.6.0.dev20200428 torchvision -f https://download.pytorch.org/whl/nightly/cu101/torch_nightly.html"
      ],
      "execution_count": null,
      "outputs": []
    },
    {
      "cell_type": "code",
      "metadata": {
        "id": "cc3qqLU_ssLJ",
        "colab_type": "code",
        "colab": {}
      },
      "source": [
        "import torch\n",
        "print(torch.cuda.is_available())\n",
        "#torch.cuda.get_device_name(0)\n",
        "print(torch.__version__)"
      ],
      "execution_count": null,
      "outputs": []
    },
    {
      "cell_type": "code",
      "metadata": {
        "id": "WNrcuBHff-7H",
        "colab_type": "code",
        "colab": {}
      },
      "source": [
        "!mkdir FastSpeech2/waveglow/pretrained_model/\n",
        "!mkdir FastSpeech2/ckpt/\n",
        "!mkdir FastSpeech2/ckpt/LJSpeech/"
      ],
      "execution_count": null,
      "outputs": []
    },
    {
      "cell_type": "code",
      "metadata": {
        "id": "8-QR4hMIpUI6",
        "colab_type": "code",
        "colab": {}
      },
      "source": [
        "from google_drive_downloader import GoogleDriveDownloader as gdd\n",
        "\n",
        "#download Waveglow pretrained\n",
        "gdd.download_file_from_google_drive(file_id='1rpK8CzAAirq9sWZhe9nlfvxMF1dRgFbF',\n",
        "                                    dest_path='./FastSpeech2/waveglow/pretrained_model/waveglow_256channels.pt',\n",
        "                                    unzip=False)\n",
        "\n",
        "# download FastSpeech2 pretrained\n",
        "gdd.download_file_from_google_drive(file_id='1jXNDPMt1ybTN97_MztoTFyrPIthoQuSO',\n",
        "                                    dest_path='./FastSpeech2/ckpt/LJSpeech/checkpoint_300000.pth.tar',\n",
        "                                    unzip=False)"
      ],
      "execution_count": null,
      "outputs": []
    },
    {
      "cell_type": "code",
      "metadata": {
        "id": "6aRAwCA8hY2N",
        "colab_type": "code",
        "colab": {}
      },
      "source": [
        "!cd FastSpeech2/ && python3 synthesize.py --step 300000"
      ],
      "execution_count": null,
      "outputs": []
    },
    {
      "cell_type": "code",
      "metadata": {
        "id": "_CboIM6Nhg5O",
        "colab_type": "code",
        "colab": {}
      },
      "source": [
        "import os\n",
        "\n",
        "audio_files = os.listdir('FastSpeech2/results/')\n",
        "\n",
        "for i in audio_files:\n",
        "  print(i)"
      ],
      "execution_count": null,
      "outputs": []
    },
    {
      "cell_type": "code",
      "metadata": {
        "id": "E8AJMgEssSnz",
        "colab_type": "code",
        "colab": {}
      },
      "source": [
        "import IPython.display as ipd\n",
        "ipd.Audio( os.path.join('FastSpeech2/results/', audio_files[0]) )"
      ],
      "execution_count": null,
      "outputs": []
    },
    {
      "cell_type": "code",
      "metadata": {
        "id": "k8q1oZmqwBZj",
        "colab_type": "code",
        "colab": {}
      },
      "source": [
        ""
      ],
      "execution_count": null,
      "outputs": []
    }
  ]
}